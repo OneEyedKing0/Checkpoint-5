{
 "cells": [
  {
   "cell_type": "code",
   "execution_count": 35,
   "id": "eb4eeafd",
   "metadata": {},
   "outputs": [
    {
     "name": "stdout",
     "output_type": "stream",
     "text": [
      "(1, 2, 3)\n"
     ]
    }
   ],
   "source": [
    "class Point_3D(object):\n",
    "    \n",
    "    def __init__ (self, x, y, z):\n",
    "        self.x = x\n",
    "        self.y = y\n",
    "        self.z = z\n",
    "        \n",
    "    def prints (self):\n",
    "        return (self.x, self.y, self.z)\n",
    "\n",
    "prints = Point_3D(1, 2, 3) \n",
    "\n",
    "print(prints.prints()) \n"
   ]
  },
  {
   "cell_type": "code",
   "execution_count": 49,
   "id": "ac360f51",
   "metadata": {},
   "outputs": [
    {
     "name": "stdout",
     "output_type": "stream",
     "text": [
      "12\n",
      "14\n"
     ]
    }
   ],
   "source": [
    "class rectangle(object):\n",
    "    \n",
    "    def __init__(self, length, width):\n",
    "        self.length = length\n",
    "        self.width = width\n",
    "        \n",
    "    def area(self):\n",
    "        x=self.length*self.width\n",
    "        return(x)\n",
    "    def perimeter(self):\n",
    "        y=2*(self.length+self.width)\n",
    "        return(y)\n",
    "    \n",
    "my_rectangle= rectangle(3,4)\n",
    "print(my_rectangle.area())\n",
    "print(my_rectangle.perimeter())\n",
    "\n",
    "\n"
   ]
  },
  {
   "cell_type": "code",
   "execution_count": 64,
   "id": "97eb3552",
   "metadata": {},
   "outputs": [
    {
     "name": "stdout",
     "output_type": "stream",
     "text": [
      "78.53981633974483\n",
      "157.07963267948966\n"
     ]
    }
   ],
   "source": [
    "import math\n",
    "class circle(object):\n",
    "    \n",
    "    def __init__(self, center, radius):\n",
    "        self.center = center\n",
    "        self.radius = radius\n",
    "        \n",
    "    def area(self):\n",
    "        x= math.pi*self.radius**2\n",
    "        return(x)\n",
    "    \n",
    "    def perimeter(self):\n",
    "        y=2*self.radius**2*math.pi\n",
    "        return(y)\n",
    "    \n",
    "    def Isinside(self):\n",
    "        self.A=A\n",
    "        ab=math.sqrt(((A[0]-self.center[0])**2)+(A[1]-self.center[1])**2)\n",
    "        \n",
    "        if ab<=self.radius:\n",
    "            return('Interieur')\n",
    "        else:\n",
    "            return ('extérieur')\n",
    "    \n",
    "    \n",
    "my_circle= circle(3,5)\n",
    "print(my_circle.area())\n",
    "print(my_circle.perimeter())"
   ]
  },
  {
   "cell_type": "code",
   "execution_count": 24,
   "id": "34174f96",
   "metadata": {},
   "outputs": [
    {
     "name": "stdout",
     "output_type": "stream",
     "text": [
      "Hello!!! Welcome to the Deposit & Withdrawal Machine\n",
      "Enter amount to be deposited : 500\n",
      "/n Amount deposited : 500.0\n",
      "Enter amount to be withdrawn: 250\n",
      "\n",
      " You Withdrew: 250.0\n",
      "/n Net Available Balance= 250.0\n"
     ]
    }
   ],
   "source": [
    "class Bank_Account():\n",
    "    \n",
    "    def __init__(self):\n",
    "        self.balance=0\n",
    "        print(\"Hello!!! Welcome to the Deposit & Withdrawal Machine\")\n",
    "    \n",
    "    def deposit(self):\n",
    "        amount = float(input(\"Enter amount to be deposited : \"))\n",
    "        self.balance += amount \n",
    "        print(\"/n Amount deposited :\", amount)\n",
    "        \n",
    "    def withdraw(self):\n",
    "        amount = float(input(\"Enter amount to be withdrawn: \"))\n",
    "        if self.balance >= amount:\n",
    "            self.balance -= amount\n",
    "            print(\"\\n You Withdrew:\", amount)\n",
    "        else:\n",
    "            print(\"\\n Insufficient balance  \")\n",
    "            \n",
    "    def display(self):\n",
    "        print(\"/n Net Available Balance=\", self.balance)\n",
    "        \n",
    "s = Bank_Account()\n",
    "\n",
    "s.deposit()\n",
    "s.withdraw()\n",
    "s.display()\n",
    "    "
   ]
  },
  {
   "cell_type": "code",
   "execution_count": null,
   "id": "58a83dbb",
   "metadata": {},
   "outputs": [],
   "source": []
  }
 ],
 "metadata": {
  "kernelspec": {
   "display_name": "Python 3",
   "language": "python",
   "name": "python3"
  },
  "language_info": {
   "codemirror_mode": {
    "name": "ipython",
    "version": 3
   },
   "file_extension": ".py",
   "mimetype": "text/x-python",
   "name": "python",
   "nbconvert_exporter": "python",
   "pygments_lexer": "ipython3",
   "version": "3.8.8"
  }
 },
 "nbformat": 4,
 "nbformat_minor": 5
}
